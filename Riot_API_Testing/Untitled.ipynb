{
 "cells": [
  {
   "cell_type": "code",
   "execution_count": 5,
   "id": "52d8d4b8",
   "metadata": {},
   "outputs": [],
   "source": [
    "import requests\n",
    "# Import API key\n",
    "from r_a import r_key"
   ]
  },
  {
   "cell_type": "code",
   "execution_count": 6,
   "id": "c40070e4",
   "metadata": {},
   "outputs": [
    {
     "data": {
      "text/plain": [
       "'RGAPI-2909272e-51f0-4142-aaa9-cd2b67e2779d'"
      ]
     },
     "execution_count": 6,
     "metadata": {},
     "output_type": "execute_result"
    }
   ],
   "source": [
    "r_key"
   ]
  },
  {
   "cell_type": "code",
   "execution_count": null,
   "id": "91095ba1",
   "metadata": {},
   "outputs": [],
   "source": []
  }
 ],
 "metadata": {
  "kernelspec": {
   "display_name": "PythonData",
   "language": "python",
   "name": "pythondata"
  },
  "language_info": {
   "codemirror_mode": {
    "name": "ipython",
    "version": 3
   },
   "file_extension": ".py",
   "mimetype": "text/x-python",
   "name": "python",
   "nbconvert_exporter": "python",
   "pygments_lexer": "ipython3",
   "version": "3.7.10"
  }
 },
 "nbformat": 4,
 "nbformat_minor": 5
}
