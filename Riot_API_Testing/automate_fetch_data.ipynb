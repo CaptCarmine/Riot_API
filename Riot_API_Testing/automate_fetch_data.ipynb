{
 "cells": [
  {
   "cell_type": "code",
   "execution_count": 1,
   "id": "5f33592e",
   "metadata": {},
   "outputs": [],
   "source": [
    "import requests\n",
    "import json\n",
    "import pandas as pd\n",
    "# Import API key\n",
    "from api import r_key"
   ]
  },
  {
   "cell_type": "code",
   "execution_count": 2,
   "id": "62031e0d",
   "metadata": {},
   "outputs": [],
   "source": [
    "def get_puuid(key, name):\n",
    "    '''Given an api key, and a player name, return the player puuid'''\n",
    "    url = f\"https://na1.api.riotgames.com/lol/summoner/v4/summoners/by-name/{name}\"\n",
    "    params = { 'api_key': r_key }\n",
    "    res = requests.get(url, params)\n",
    "    if res.status_code == 200:\n",
    "        return res.json()['puuid']\n",
    "    else: \n",
    "        print(f\"Error {res.status_code}: {res.reason}\")\n",
    "        return ''\n",
    "    "
   ]
  },
  {
   "cell_type": "code",
   "execution_count": 3,
   "id": "5e493c83",
   "metadata": {},
   "outputs": [],
   "source": [
    "# there's a lot more params to get match info in the documentation\n",
    "def get_games(key, name):\n",
    "    '''Given a riot key and a player name, return a list of the games they played.'''\n",
    "    \n",
    "    # get puuid     \n",
    "    puuid = get_puuid(key, name)\n",
    "    if puuid == '':\n",
    "        return [] # if not fetched quit\n",
    "    \n",
    "    \n",
    "    url = f\"https://americas.api.riotgames.com/lol/match/v5/matches/by-puuid/{puuid}/ids\"\n",
    "    params = { 'api_key': r_key }\n",
    "    res = requests.get(url, params)\n",
    "    \n",
    "    if res.status_code == 200:\n",
    "        return res.json()\n",
    "    else: \n",
    "        print(f\"Error {res.status_code}: {res.reason}\")\n",
    "        return ''\n",
    "    "
   ]
  },
  {
   "cell_type": "code",
   "execution_count": 4,
   "id": "c4f20198",
   "metadata": {},
   "outputs": [
    {
     "data": {
      "text/plain": [
       "'xCaDWpzMVCFl9_WaRI5gIzZ3rUOLvr4QSxCI6ycZehEHlOtyPKwS2oeEk2mNSDjKj3hWYGfgT_4Ckg'"
      ]
     },
     "execution_count": 4,
     "metadata": {},
     "output_type": "execute_result"
    }
   ],
   "source": [
    "get_puuid(r_key, 'Capt Carmine')"
   ]
  },
  {
   "cell_type": "code",
   "execution_count": 5,
   "id": "26e4368f",
   "metadata": {},
   "outputs": [
    {
     "data": {
      "text/plain": [
       "['NA1_4097517822',\n",
       " 'NA1_4095430600',\n",
       " 'NA1_4095322446',\n",
       " 'NA1_4095295043',\n",
       " 'NA1_4095094169',\n",
       " 'NA1_4094834527',\n",
       " 'NA1_4094003683',\n",
       " 'NA1_4093986467',\n",
       " 'NA1_4093963981',\n",
       " 'NA1_4093889396',\n",
       " 'NA1_4093894419',\n",
       " 'NA1_4093880918',\n",
       " 'NA1_4093801700',\n",
       " 'NA1_4092545945',\n",
       " 'NA1_4091788159',\n",
       " 'NA1_4091448253',\n",
       " 'NA1_4090721018',\n",
       " 'NA1_4090673519',\n",
       " 'NA1_4090577505',\n",
       " 'NA1_4090443728']"
      ]
     },
     "execution_count": 5,
     "metadata": {},
     "output_type": "execute_result"
    }
   ],
   "source": [
    "games = get_games(r_key, 'Capt Carmine')\n",
    "games"
   ]
  },
  {
   "cell_type": "code",
   "execution_count": 6,
   "id": "6a61f718",
   "metadata": {},
   "outputs": [],
   "source": [
    "# status_url = 'https://na1.api.riotgames.com/lol/status/v4/platform-data'\n",
    "# summoner_url = 'https://na1.api.riotgames.com/lol/summoner/v4/summoners/by-name/capt carmine'\n",
    "# game_url = 'https://americas.api.riotgames.com/lol/match/v5/matches/NA1_4036633413'"
   ]
  },
  {
   "cell_type": "code",
   "execution_count": 7,
   "id": "296ada54",
   "metadata": {},
   "outputs": [],
   "source": [
    "# game_response.json()['info']['participants'][8]"
   ]
  },
  {
   "cell_type": "code",
   "execution_count": null,
   "id": "a46e286d",
   "metadata": {},
   "outputs": [],
   "source": []
  }
 ],
 "metadata": {
  "kernelspec": {
   "display_name": "PythonData",
   "language": "python",
   "name": "pythondata"
  },
  "language_info": {
   "codemirror_mode": {
    "name": "ipython",
    "version": 3
   },
   "file_extension": ".py",
   "mimetype": "text/x-python",
   "name": "python",
   "nbconvert_exporter": "python",
   "pygments_lexer": "ipython3",
   "version": "3.7.10"
  }
 },
 "nbformat": 4,
 "nbformat_minor": 5
}
