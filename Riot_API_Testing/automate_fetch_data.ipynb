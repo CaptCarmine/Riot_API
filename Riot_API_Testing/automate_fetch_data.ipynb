{
 "cells": [
  {
   "cell_type": "code",
   "execution_count": 1,
   "id": "5f33592e",
   "metadata": {},
   "outputs": [],
   "source": [
    "import requests\n",
    "import json\n",
    "import pandas as pd\n",
    "# Import API key\n",
    "from api import r_key"
   ]
  },
  {
   "cell_type": "code",
   "execution_count": 2,
   "id": "62031e0d",
   "metadata": {},
   "outputs": [],
   "source": [
    "def get_puuid(key, name):\n",
    "    \n",
    "    '''Given an api key, and a player name, return the player puuid'''\n",
    "    url = f\"https://na1.api.riotgames.com/lol/summoner/v4/summoners/by-name/{name}\"\n",
    "#     url = f\"https://na1.api.riotgames.com/riot/account/v1/accounts/by-riot-id/{name}/{tag}\"\n",
    "    params = { 'api_key': r_key }\n",
    "    res = requests.get(url, params)\n",
    "    if res.status_code == 200:\n",
    "        return res.json()['puuid']\n",
    "    else: \n",
    "        print(f\"Error {res.status_code}: {res.reason}\")\n",
    "        return ''\n",
    "    "
   ]
  },
  {
   "cell_type": "code",
   "execution_count": 21,
   "id": "a9d1ab85",
   "metadata": {},
   "outputs": [],
   "source": [
    "def get_sum_id(key, name):\n",
    "    \n",
    "    '''Given an api key, and a player name, return the player puuid'''\n",
    "    url = f\"https://na1.api.riotgames.com/lol/summoner/v4/summoners/by-name/{name}\"\n",
    "    params = { 'api_key': r_key }\n",
    "    res = requests.get(url, params)\n",
    "    if res.status_code == 200:\n",
    "        return res.json()['id']\n",
    "    else: \n",
    "        print(f\"Error {res.status_code}: {res.reason}\")\n",
    "        return ''\n",
    "    "
   ]
  },
  {
   "cell_type": "code",
   "execution_count": 3,
   "id": "5e493c83",
   "metadata": {},
   "outputs": [],
   "source": [
    "# there's a lot more params to get match info in the documentation\n",
    "def get_games(key, name):\n",
    "    '''Given a riot key and a player name, return a list of the games they played.'''\n",
    "    \n",
    "    # get puuid     \n",
    "    puuid = get_puuid(key, name)\n",
    "    if puuid == '':\n",
    "        return [] # if not fetched quit\n",
    "    \n",
    "    \n",
    "    url = f\"https://americas.api.riotgames.com/lol/match/v5/matches/by-puuid/{puuid}/ids\"\n",
    "    params = { 'api_key': r_key }\n",
    "    res = requests.get(url, params)\n",
    "    \n",
    "    if res.status_code == 200:\n",
    "        return res.json()\n",
    "    else: \n",
    "        print(f\"Error {res.status_code}: {res.reason}\")\n",
    "        return ''\n",
    "    "
   ]
  },
  {
   "cell_type": "code",
   "execution_count": 4,
   "id": "2850dda0",
   "metadata": {},
   "outputs": [],
   "source": [
    "def get_game_data(key, gameid):\n",
    "    '''Given a riot key and gameid, return all match data'''\n",
    "    url = f\"https://americas.api.riotgames.com/lol/match/v5/matches/{gameid}\"\n",
    "    params = { 'api_key': r_key }\n",
    "    res = requests.get(url, params)\n",
    "    if res.status_code == 200:\n",
    "        return res.json()\n",
    "    else: \n",
    "        print(f\"Error {res.status_code}: {res.reason}\")\n",
    "        return ''\n",
    "    "
   ]
  },
  {
   "cell_type": "code",
   "execution_count": 5,
   "id": "c4f20198",
   "metadata": {},
   "outputs": [],
   "source": [
    "puuid = get_puuid(r_key, 'Capt Carmine')"
   ]
  },
  {
   "cell_type": "code",
   "execution_count": 22,
   "id": "f91619d7",
   "metadata": {},
   "outputs": [
    {
     "data": {
      "text/plain": [
       "'UZuJbRRGs3TDLS8P0p2dGOSJZQFbGkZ8c4hZAXGts2x10kI'"
      ]
     },
     "execution_count": 22,
     "metadata": {},
     "output_type": "execute_result"
    }
   ],
   "source": [
    "get_sum_id(r_key, 'Capt Carmine')"
   ]
  },
  {
   "cell_type": "code",
   "execution_count": 6,
   "id": "f87276ab",
   "metadata": {},
   "outputs": [
    {
     "data": {
      "text/plain": [
       "'xCaDWpzMVCFl9_WaRI5gIzZ3rUOLvr4QSxCI6ycZehEHlOtyPKwS2oeEk2mNSDjKj3hWYGfgT_4Ckg'"
      ]
     },
     "execution_count": 6,
     "metadata": {},
     "output_type": "execute_result"
    }
   ],
   "source": [
    "puuid"
   ]
  },
  {
   "cell_type": "code",
   "execution_count": 7,
   "id": "26e4368f",
   "metadata": {},
   "outputs": [
    {
     "data": {
      "text/plain": [
       "['NA1_4097789785',\n",
       " 'NA1_4097715642',\n",
       " 'NA1_4097760061',\n",
       " 'NA1_4097517822',\n",
       " 'NA1_4095430600',\n",
       " 'NA1_4095322446',\n",
       " 'NA1_4095295043',\n",
       " 'NA1_4095094169',\n",
       " 'NA1_4094834527',\n",
       " 'NA1_4094003683',\n",
       " 'NA1_4093986467',\n",
       " 'NA1_4093963981',\n",
       " 'NA1_4093889396',\n",
       " 'NA1_4093894419',\n",
       " 'NA1_4093880918',\n",
       " 'NA1_4093801700',\n",
       " 'NA1_4092545945',\n",
       " 'NA1_4091788159',\n",
       " 'NA1_4091448253',\n",
       " 'NA1_4090721018']"
      ]
     },
     "execution_count": 7,
     "metadata": {},
     "output_type": "execute_result"
    }
   ],
   "source": [
    "games = get_games(r_key, 'Capt Carmine')\n",
    "games"
   ]
  },
  {
   "cell_type": "code",
   "execution_count": 8,
   "id": "23dc2791",
   "metadata": {},
   "outputs": [],
   "source": [
    "match_data = []\n",
    "\n",
    "for game in games:\n",
    "    match_data.append(get_game_data(r_key, game))"
   ]
  },
  {
   "cell_type": "code",
   "execution_count": 19,
   "id": "da9b8a50",
   "metadata": {},
   "outputs": [
    {
     "name": "stdout",
     "output_type": "stream",
     "text": [
      "0\n",
      "5\n",
      "3\n",
      "4\n",
      "9\n",
      "8\n",
      "5\n",
      "8\n",
      "1\n",
      "0\n",
      "5\n",
      "0\n",
      "0\n",
      "8\n",
      "0\n",
      "3\n",
      "8\n",
      "2\n",
      "8\n",
      "8\n"
     ]
    }
   ],
   "source": [
    "analysis_data = []\n",
    "\n",
    "for match in match_data:\n",
    "    player_index = match['metadata']['participants'].index(puuid)\n",
    "    print(player_index)\n",
    "    analysis_data.append({\n",
    "         'game_duration': match['info']['gameDuration'],\n",
    "         'participant_data':  match['info']['participants'][player_index]\n",
    "    })"
   ]
  },
  {
   "cell_type": "code",
   "execution_count": 20,
   "id": "3c524ebb",
   "metadata": {},
   "outputs": [
    {
     "data": {
      "text/plain": [
       "{'game_duration': 2419,\n",
       " 'participant_data': {'assists': 9,\n",
       "  'baronKills': 0,\n",
       "  'bountyLevel': 1,\n",
       "  'champExperience': 18505,\n",
       "  'champLevel': 18,\n",
       "  'championId': 523,\n",
       "  'championName': 'Aphelios',\n",
       "  'championTransform': 0,\n",
       "  'consumablesPurchased': 6,\n",
       "  'damageDealtToBuildings': 4673,\n",
       "  'damageDealtToObjectives': 34523,\n",
       "  'damageDealtToTurrets': 4673,\n",
       "  'damageSelfMitigated': 20852,\n",
       "  'deaths': 10,\n",
       "  'detectorWardsPlaced': 3,\n",
       "  'doubleKills': 0,\n",
       "  'dragonKills': 2,\n",
       "  'firstBloodAssist': False,\n",
       "  'firstBloodKill': False,\n",
       "  'firstTowerAssist': False,\n",
       "  'firstTowerKill': False,\n",
       "  'gameEndedInEarlySurrender': False,\n",
       "  'gameEndedInSurrender': False,\n",
       "  'goldEarned': 14251,\n",
       "  'goldSpent': 12675,\n",
       "  'individualPosition': 'BOTTOM',\n",
       "  'inhibitorKills': 1,\n",
       "  'inhibitorTakedowns': 1,\n",
       "  'inhibitorsLost': 0,\n",
       "  'item0': 2055,\n",
       "  'item1': 3031,\n",
       "  'item2': 6673,\n",
       "  'item3': 3086,\n",
       "  'item4': 3006,\n",
       "  'item5': 6676,\n",
       "  'item6': 3363,\n",
       "  'itemsPurchased': 29,\n",
       "  'killingSprees': 2,\n",
       "  'kills': 9,\n",
       "  'lane': 'BOTTOM',\n",
       "  'largestCriticalStrike': 784,\n",
       "  'largestKillingSpree': 3,\n",
       "  'largestMultiKill': 1,\n",
       "  'longestTimeSpentLiving': 378,\n",
       "  'magicDamageDealt': 2709,\n",
       "  'magicDamageDealtToChampions': 1063,\n",
       "  'magicDamageTaken': 17482,\n",
       "  'neutralMinionsKilled': 42,\n",
       "  'nexusKills': 0,\n",
       "  'nexusLost': 0,\n",
       "  'nexusTakedowns': 1,\n",
       "  'objectivesStolen': 0,\n",
       "  'objectivesStolenAssists': 0,\n",
       "  'participantId': 9,\n",
       "  'pentaKills': 0,\n",
       "  'perks': {'statPerks': {'defense': 5002, 'flex': 5008, 'offense': 5005},\n",
       "   'styles': [{'description': 'primaryStyle',\n",
       "     'selections': [{'perk': 8005, 'var1': 2256, 'var2': 1280, 'var3': 976},\n",
       "      {'perk': 9101, 'var1': 5781, 'var2': 7759, 'var3': 0},\n",
       "      {'perk': 9103, 'var1': 24, 'var2': 20, 'var3': 0},\n",
       "      {'perk': 8014, 'var1': 507, 'var2': 0, 'var3': 0}],\n",
       "     'style': 8000},\n",
       "    {'description': 'subStyle',\n",
       "     'selections': [{'perk': 8304, 'var1': 10, 'var2': 3, 'var3': 0},\n",
       "      {'perk': 8345, 'var1': 3, 'var2': 0, 'var3': 0}],\n",
       "     'style': 8300}]},\n",
       "  'physicalDamageDealt': 193049,\n",
       "  'physicalDamageDealtToChampions': 21181,\n",
       "  'physicalDamageTaken': 10673,\n",
       "  'profileIcon': 4217,\n",
       "  'puuid': 'xCaDWpzMVCFl9_WaRI5gIzZ3rUOLvr4QSxCI6ycZehEHlOtyPKwS2oeEk2mNSDjKj3hWYGfgT_4Ckg',\n",
       "  'quadraKills': 0,\n",
       "  'riotIdName': '',\n",
       "  'riotIdTagline': '',\n",
       "  'role': 'CARRY',\n",
       "  'sightWardsBoughtInGame': 0,\n",
       "  'spell1Casts': 114,\n",
       "  'spell2Casts': 118,\n",
       "  'spell3Casts': 0,\n",
       "  'spell4Casts': 7,\n",
       "  'summoner1Casts': 6,\n",
       "  'summoner1Id': 7,\n",
       "  'summoner2Casts': 6,\n",
       "  'summoner2Id': 4,\n",
       "  'summonerId': 'UZuJbRRGs3TDLS8P0p2dGOSJZQFbGkZ8c4hZAXGts2x10kI',\n",
       "  'summonerLevel': 99,\n",
       "  'summonerName': 'Capt Carmine',\n",
       "  'teamEarlySurrendered': False,\n",
       "  'teamId': 200,\n",
       "  'teamPosition': 'BOTTOM',\n",
       "  'timeCCingOthers': 23,\n",
       "  'timePlayed': 2419,\n",
       "  'totalDamageDealt': 215522,\n",
       "  'totalDamageDealtToChampions': 23059,\n",
       "  'totalDamageShieldedOnTeammates': 0,\n",
       "  'totalDamageTaken': 28798,\n",
       "  'totalHeal': 5381,\n",
       "  'totalHealsOnTeammates': 330,\n",
       "  'totalMinionsKilled': 182,\n",
       "  'totalTimeCCDealt': 169,\n",
       "  'totalTimeSpentDead': 327,\n",
       "  'totalUnitsHealed': 3,\n",
       "  'tripleKills': 0,\n",
       "  'trueDamageDealt': 19763,\n",
       "  'trueDamageDealtToChampions': 814,\n",
       "  'trueDamageTaken': 642,\n",
       "  'turretKills': 1,\n",
       "  'turretTakedowns': 3,\n",
       "  'turretsLost': 4,\n",
       "  'unrealKills': 0,\n",
       "  'visionScore': 35,\n",
       "  'visionWardsBoughtInGame': 5,\n",
       "  'wardsKilled': 3,\n",
       "  'wardsPlaced': 12,\n",
       "  'win': True}}"
      ]
     },
     "execution_count": 20,
     "metadata": {},
     "output_type": "execute_result"
    }
   ],
   "source": [
    "analysis_data[5]"
   ]
  },
  {
   "cell_type": "code",
   "execution_count": 15,
   "id": "81992259",
   "metadata": {},
   "outputs": [
    {
     "data": {
      "text/plain": [
       "{'game_duration': 2438,\n",
       " 'participant_data': {'assists': 10,\n",
       "  'baronKills': 0,\n",
       "  'bountyLevel': 1,\n",
       "  'champExperience': 19813,\n",
       "  'champLevel': 18,\n",
       "  'championId': 113,\n",
       "  'championName': 'Sejuani',\n",
       "  'championTransform': 0,\n",
       "  'consumablesPurchased': 5,\n",
       "  'damageDealtToBuildings': 3440,\n",
       "  'damageDealtToObjectives': 8943,\n",
       "  'damageDealtToTurrets': 3440,\n",
       "  'damageSelfMitigated': 75646,\n",
       "  'deaths': 6,\n",
       "  'detectorWardsPlaced': 3,\n",
       "  'doubleKills': 0,\n",
       "  'dragonKills': 0,\n",
       "  'firstBloodAssist': False,\n",
       "  'firstBloodKill': False,\n",
       "  'firstTowerAssist': False,\n",
       "  'firstTowerKill': False,\n",
       "  'gameEndedInEarlySurrender': False,\n",
       "  'gameEndedInSurrender': False,\n",
       "  'goldEarned': 14693,\n",
       "  'goldSpent': 13075,\n",
       "  'individualPosition': 'TOP',\n",
       "  'inhibitorKills': 1,\n",
       "  'inhibitorTakedowns': 1,\n",
       "  'inhibitorsLost': 0,\n",
       "  'item0': 3001,\n",
       "  'item1': 6662,\n",
       "  'item2': 3111,\n",
       "  'item3': 3075,\n",
       "  'item4': 3083,\n",
       "  'item5': 0,\n",
       "  'item6': 3340,\n",
       "  'itemsPurchased': 29,\n",
       "  'killingSprees': 1,\n",
       "  'kills': 5,\n",
       "  'lane': 'TOP',\n",
       "  'largestCriticalStrike': 17,\n",
       "  'largestKillingSpree': 3,\n",
       "  'largestMultiKill': 1,\n",
       "  'longestTimeSpentLiving': 761,\n",
       "  'magicDamageDealt': 85371,\n",
       "  'magicDamageDealtToChampions': 19196,\n",
       "  'magicDamageTaken': 23739,\n",
       "  'neutralMinionsKilled': 28,\n",
       "  'nexusKills': 0,\n",
       "  'nexusLost': 0,\n",
       "  'nexusTakedowns': 0,\n",
       "  'objectivesStolen': 0,\n",
       "  'objectivesStolenAssists': 0,\n",
       "  'participantId': 6,\n",
       "  'pentaKills': 0,\n",
       "  'perks': {'statPerks': {'defense': 5001, 'flex': 5008, 'offense': 5005},\n",
       "   'styles': [{'description': 'primaryStyle',\n",
       "     'selections': [{'perk': 8437, 'var1': 2688, 'var2': 2201, 'var3': 0},\n",
       "      {'perk': 8446, 'var1': 1592, 'var2': 0, 'var3': 0},\n",
       "      {'perk': 8444, 'var1': 3920, 'var2': 0, 'var3': 0},\n",
       "      {'perk': 8451, 'var1': 316, 'var2': 0, 'var3': 0}],\n",
       "     'style': 8400},\n",
       "    {'description': 'subStyle',\n",
       "     'selections': [{'perk': 9111, 'var1': 2760, 'var2': 300, 'var3': 0},\n",
       "      {'perk': 9105, 'var1': 22, 'var2': 0, 'var3': 0}],\n",
       "     'style': 8000}]},\n",
       "  'physicalDamageDealt': 124518,\n",
       "  'physicalDamageDealtToChampions': 13027,\n",
       "  'physicalDamageTaken': 34744,\n",
       "  'profileIcon': 5002,\n",
       "  'puuid': '_QW0yhb1ezZSQUFWEtK7RZRRTkRV2h7FSPv5jAiYIdOnqVZAHgan_m85HSmYb6M9xb-pfkPnbMyydA',\n",
       "  'quadraKills': 0,\n",
       "  'riotIdName': '',\n",
       "  'riotIdTagline': '',\n",
       "  'role': 'SOLO',\n",
       "  'sightWardsBoughtInGame': 0,\n",
       "  'spell1Casts': 68,\n",
       "  'spell2Casts': 114,\n",
       "  'spell3Casts': 39,\n",
       "  'spell4Casts': 16,\n",
       "  'summoner1Casts': 5,\n",
       "  'summoner1Id': 12,\n",
       "  'summoner2Casts': 7,\n",
       "  'summoner2Id': 4,\n",
       "  'summonerId': '8h22UadMcgQu5UD3fuDJ3SG4lHzFg-Od3rL1EVXEOTIzmq8',\n",
       "  'summonerLevel': 353,\n",
       "  'summonerName': 'DiirtyDiana',\n",
       "  'teamEarlySurrendered': False,\n",
       "  'teamId': 200,\n",
       "  'teamPosition': 'TOP',\n",
       "  'timeCCingOthers': 60,\n",
       "  'timePlayed': 2438,\n",
       "  'totalDamageDealt': 212196,\n",
       "  'totalDamageDealtToChampions': 32573,\n",
       "  'totalDamageShieldedOnTeammates': 0,\n",
       "  'totalDamageTaken': 62005,\n",
       "  'totalHeal': 11945,\n",
       "  'totalHealsOnTeammates': 0,\n",
       "  'totalMinionsKilled': 196,\n",
       "  'totalTimeCCDealt': 1202,\n",
       "  'totalTimeSpentDead': 191,\n",
       "  'totalUnitsHealed': 1,\n",
       "  'tripleKills': 0,\n",
       "  'trueDamageDealt': 2306,\n",
       "  'trueDamageDealtToChampions': 349,\n",
       "  'trueDamageTaken': 3520,\n",
       "  'turretKills': 0,\n",
       "  'turretTakedowns': 1,\n",
       "  'turretsLost': 5,\n",
       "  'unrealKills': 0,\n",
       "  'visionScore': 36,\n",
       "  'visionWardsBoughtInGame': 3,\n",
       "  'wardsKilled': 4,\n",
       "  'wardsPlaced': 16,\n",
       "  'win': True}}"
      ]
     },
     "execution_count": 15,
     "metadata": {},
     "output_type": "execute_result"
    }
   ],
   "source": [
    "analysis_data[1]"
   ]
  },
  {
   "cell_type": "code",
   "execution_count": 11,
   "id": "2f9f89ae",
   "metadata": {},
   "outputs": [
    {
     "ename": "NameError",
     "evalue": "name 'game_duration' is not defined",
     "output_type": "error",
     "traceback": [
      "\u001b[1;31m---------------------------------------------------------------------------\u001b[0m",
      "\u001b[1;31mNameError\u001b[0m                                 Traceback (most recent call last)",
      "\u001b[1;32m<ipython-input-11-d1fddf659512>\u001b[0m in \u001b[0;36m<module>\u001b[1;34m\u001b[0m\n\u001b[0;32m      1\u001b[0m \u001b[1;31m# is in seconds\u001b[0m\u001b[1;33m\u001b[0m\u001b[1;33m\u001b[0m\u001b[1;33m\u001b[0m\u001b[0m\n\u001b[1;32m----> 2\u001b[1;33m \u001b[0mprint\u001b[0m\u001b[1;33m(\u001b[0m\u001b[1;34mf\"Game length in minutes: {game_duration / 60 :.2f}\"\u001b[0m\u001b[1;33m)\u001b[0m\u001b[1;33m\u001b[0m\u001b[1;33m\u001b[0m\u001b[0m\n\u001b[0m",
      "\u001b[1;31mNameError\u001b[0m: name 'game_duration' is not defined"
     ]
    }
   ],
   "source": [
    "# is in seconds\n",
    "print(f\"Game length in minutes: {game_duration / 60 :.2f}\")"
   ]
  },
  {
   "cell_type": "code",
   "execution_count": null,
   "id": "6a61f718",
   "metadata": {},
   "outputs": [],
   "source": [
    "# status_url = 'https://na1.api.riotgames.com/lol/status/v4/platform-data'\n",
    "# summoner_url = 'https://na1.api.riotgames.com/lol/summoner/v4/summoners/by-name/capt carmine'\n",
    "# game_url = 'https://americas.api.riotgames.com/lol/match/v5/matches/NA1_4036633413'"
   ]
  },
  {
   "cell_type": "code",
   "execution_count": null,
   "id": "296ada54",
   "metadata": {},
   "outputs": [],
   "source": [
    "# game_response.json()['info']['participants'][8]"
   ]
  },
  {
   "cell_type": "code",
   "execution_count": null,
   "id": "a46e286d",
   "metadata": {},
   "outputs": [],
   "source": []
  }
 ],
 "metadata": {
  "kernelspec": {
   "display_name": "PythonData",
   "language": "python",
   "name": "pythondata"
  },
  "language_info": {
   "codemirror_mode": {
    "name": "ipython",
    "version": 3
   },
   "file_extension": ".py",
   "mimetype": "text/x-python",
   "name": "python",
   "nbconvert_exporter": "python",
   "pygments_lexer": "ipython3",
   "version": "3.7.10"
  }
 },
 "nbformat": 4,
 "nbformat_minor": 5
}
