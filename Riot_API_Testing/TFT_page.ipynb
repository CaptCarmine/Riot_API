{
 "cells": [
  {
   "cell_type": "code",
   "execution_count": 22,
   "metadata": {},
   "outputs": [],
   "source": [
    "# Libaries\n",
    "import requests\n",
    "import json\n",
    "import pandas as pd\n",
    "# Import API key\n",
    "from api import r_key"
   ]
  },
  {
   "cell_type": "code",
   "execution_count": 24,
   "metadata": {},
   "outputs": [],
   "source": [
    "#Variables \n",
    "summoner_name =\" Capt Carmine\" \n",
    "Summoner_ID = \"\""
   ]
  },
  {
   "cell_type": "code",
   "execution_count": 17,
   "metadata": {},
   "outputs": [],
   "source": [
    "#Paramaters\n",
    "api_param={\n",
    "    \"api_key\":r_key,\n",
    "}"
   ]
  },
  {
   "cell_type": "code",
   "execution_count": 26,
   "metadata": {},
   "outputs": [],
   "source": [
    "summoner_url = \"https://na1.api.riotgames.com/lol/summoner/v4/summoners/by-name/{}\".format(summoner_name)\n",
    "summoner_response = requests.get(summoner_url,api_param)"
   ]
  },
  {
   "cell_type": "code",
   "execution_count": 29,
   "metadata": {},
   "outputs": [],
   "source": [
    "Summoner_ID = summoner_response.json()['id']"
   ]
  },
  {
   "cell_type": "code",
   "execution_count": 31,
   "metadata": {},
   "outputs": [],
   "source": [
    "tft_url = \"https://na1.api.riotgames.com/tft/league/v1/entries/by-summoner/{}\".format(Summoner_ID)\n",
    "tft_response = requests.get(tft_url,api_param)"
   ]
  },
  {
   "cell_type": "code",
   "execution_count": 32,
   "metadata": {},
   "outputs": [
    {
     "data": {
      "text/plain": [
       "[{'leagueId': '7bf2d80f-4793-4dc2-8ff5-07d20c60cd63',\n",
       "  'queueType': 'RANKED_TFT',\n",
       "  'tier': 'DIAMOND',\n",
       "  'rank': 'IV',\n",
       "  'summonerId': 'vU-c_T8og6QfSU1gC-gij8EkthfgYnHw8gkZLuVCsZFr0ec',\n",
       "  'summonerName': 'Capt Carmine',\n",
       "  'leaguePoints': 0,\n",
       "  'wins': 76,\n",
       "  'losses': 67,\n",
       "  'veteran': False,\n",
       "  'inactive': False,\n",
       "  'freshBlood': False,\n",
       "  'hotStreak': False}]"
      ]
     },
     "execution_count": 32,
     "metadata": {},
     "output_type": "execute_result"
    }
   ],
   "source": [
    "tft_response.json()"
   ]
  },
  {
   "cell_type": "code",
   "execution_count": null,
   "metadata": {},
   "outputs": [],
   "source": []
  },
  {
   "cell_type": "code",
   "execution_count": null,
   "metadata": {},
   "outputs": [],
   "source": []
  }
 ],
 "metadata": {
  "kernelspec": {
   "display_name": "Python [conda env:.conda-PythonData] *",
   "language": "python",
   "name": "conda-env-.conda-PythonData-py"
  },
  "language_info": {
   "codemirror_mode": {
    "name": "ipython",
    "version": 3
   },
   "file_extension": ".py",
   "mimetype": "text/x-python",
   "name": "python",
   "nbconvert_exporter": "python",
   "pygments_lexer": "ipython3",
   "version": "3.7.10"
  }
 },
 "nbformat": 4,
 "nbformat_minor": 4
}
